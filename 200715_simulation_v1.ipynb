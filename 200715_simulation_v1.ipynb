{
 "cells": [
  {
   "cell_type": "markdown",
   "metadata": {
    "toc": true
   },
   "source": [
    "<h1>Table of Contents<span class=\"tocSkip\"></span></h1>\n",
    "<div class=\"toc\"><ul class=\"toc-item\"></ul></div>"
   ]
  },
  {
   "cell_type": "code",
   "execution_count": 1,
   "metadata": {
    "ExecuteTime": {
     "end_time": "2020-07-22T17:17:51.868684Z",
     "start_time": "2020-07-22T17:17:51.863321Z"
    }
   },
   "outputs": [],
   "source": [
    "import itertools"
   ]
  },
  {
   "cell_type": "code",
   "execution_count": 95,
   "metadata": {
    "ExecuteTime": {
     "end_time": "2020-07-20T16:30:44.943049Z",
     "start_time": "2020-07-20T16:30:44.929788Z"
    }
   },
   "outputs": [],
   "source": [
    "number_of_stemcells = 5\n",
    "number_of_myoblasts = 0"
   ]
  },
  {
   "cell_type": "code",
   "execution_count": 96,
   "metadata": {
    "ExecuteTime": {
     "end_time": "2020-07-20T16:30:44.980674Z",
     "start_time": "2020-07-20T16:30:44.952454Z"
    }
   },
   "outputs": [],
   "source": [
    "cells = []\n",
    "\n",
    "for cell in range(number_of_stemcells):\n",
    "    cells.append(\"sc\")\n",
    "    \n",
    "for cell in range(number_of_myoblasts):\n",
    "    cells.append(\"my\")"
   ]
  },
  {
   "cell_type": "code",
   "execution_count": 97,
   "metadata": {
    "ExecuteTime": {
     "end_time": "2020-07-20T16:30:45.002391Z",
     "start_time": "2020-07-20T16:30:44.992658Z"
    }
   },
   "outputs": [],
   "source": [
    "#cells\n",
    "#number_of_myoblasts"
   ]
  },
  {
   "cell_type": "code",
   "execution_count": 98,
   "metadata": {
    "ExecuteTime": {
     "end_time": "2020-07-20T16:30:45.120994Z",
     "start_time": "2020-07-20T16:30:45.013174Z"
    }
   },
   "outputs": [],
   "source": [
    "def divisionrate(cells, percent_stemcells_dividing = 100, percent_myoblasts_dividing = 100):\n",
    "    number_of_stemcells = cells.count(\"sc\")  #len([cell for cell in cells if cell == \"sc\"])\n",
    "    number_of_myoblasts = cells.count(\"my\")  #len([cell for cell in cells if cell == \"my\"])\n",
    "\n",
    "    subset_of_stemcells = number_of_stemcells * (percent_stemcells_dividing / 100) \n",
    "    subset_of_myoblasts = number_of_myoblasts * (percent_myoblasts_dividing / 100) \n",
    "\n",
    "    subset_of_stemcells = round(subset_of_stemcells)\n",
    "    subset_of_myoblasts = round(subset_of_myoblasts)\n",
    "\n",
    "    for cell in range(subset_of_stemcells):\n",
    "        cells.append(\"sc\")\n",
    "    \n",
    "    for cell in range(subset_of_myoblasts):\n",
    "        cells.append(\"my\")\n",
    "    \n",
    "    return cells"
   ]
  },
  {
   "cell_type": "code",
   "execution_count": 99,
   "metadata": {
    "ExecuteTime": {
     "end_time": "2020-07-20T16:30:45.132577Z",
     "start_time": "2020-07-20T16:30:45.125363Z"
    },
    "scrolled": true
   },
   "outputs": [],
   "source": [
    "#divisionrate(cells, 50, 50)"
   ]
  },
  {
   "cell_type": "code",
   "execution_count": 100,
   "metadata": {
    "ExecuteTime": {
     "end_time": "2020-07-20T16:30:45.190068Z",
     "start_time": "2020-07-20T16:30:45.140617Z"
    }
   },
   "outputs": [],
   "source": [
    "def sc_to_myb_function(cells, percent_transmutation_sc = 20): # percent sc's per myofiber turning into myoblasts\n",
    "    subset_of_stemcells = cells.count(\"sc\")\n",
    "    subset_of_stemcells = subset_of_stemcells * (percent_transmutation_sc / 100) \n",
    "    subset_of_stemcells = round(subset_of_stemcells)\n",
    "    for cell in range(subset_of_stemcells):\n",
    "        i = cells.index(\"sc\") \n",
    "        cells[i] = \"my\"\n",
    "    return cells"
   ]
  },
  {
   "cell_type": "code",
   "execution_count": 101,
   "metadata": {
    "ExecuteTime": {
     "end_time": "2020-07-20T16:30:45.207840Z",
     "start_time": "2020-07-20T16:30:45.198191Z"
    }
   },
   "outputs": [],
   "source": [
    "#sc_to_myb_function(cells, 100)"
   ]
  },
  {
   "cell_type": "code",
   "execution_count": 102,
   "metadata": {
    "ExecuteTime": {
     "end_time": "2020-07-20T16:30:45.231604Z",
     "start_time": "2020-07-20T16:30:45.213408Z"
    }
   },
   "outputs": [],
   "source": [
    "#cells = []    \n",
    "#for cell in range(number_of_stemcells):\n",
    "#   cells.append(\"sc\")\n",
    "\n",
    "#cells = divisionrate(cells, 20, 0)\n",
    "#cells = sc_to_myb_function(cells, 29)\n",
    "\n",
    "#print(cells)"
   ]
  },
  {
   "cell_type": "code",
   "execution_count": 103,
   "metadata": {
    "ExecuteTime": {
     "end_time": "2020-07-20T16:30:45.355417Z",
     "start_time": "2020-07-20T16:30:45.239566Z"
    }
   },
   "outputs": [],
   "source": [
    "# In this example, 1 of the MuSCs turns into 2x myoblasts - and 4 of the MuSCs stay MuSCs in the 1st division\n",
    "\n",
    "def masterdivision_function_v1(cells, total_hrs = 120, subsequent_div_hrs = 8, max_div = 100): #5 days = 120hrs\n",
    "    # this is division#1\n",
    "    total_hrs = total_hrs - 30\n",
    "    cells = divisionrate(cells, 20, 0)\n",
    "    cells = sc_to_myb_function(cells, 29)\n",
    "    \n",
    "    # to make sure cells stop dividing after total_hrs is over\n",
    "    for div in range(max_div):\n",
    "        if total_hrs < 0: \n",
    "            return cells \n",
    "        else: \n",
    "\n",
    "    # this is for subsequent divisions \n",
    "            total_hrs = total_hrs - subsequent_div_hrs\n",
    "            cells = divisionrate(cells, 0, 100) # Only the initial myoblasts are dividing (at 100%)\n",
    "            cells = sc_to_myb_function(cells, 0)\n",
    "    return cells\n",
    "    "
   ]
  },
  {
   "cell_type": "code",
   "execution_count": 104,
   "metadata": {
    "ExecuteTime": {
     "end_time": "2020-07-20T16:30:45.422925Z",
     "start_time": "2020-07-20T16:30:45.358395Z"
    },
    "scrolled": true
   },
   "outputs": [
    {
     "name": "stdout",
     "output_type": "stream",
     "text": [
      "['sc', 'sc', 'sc', 'sc', 'sc']\n",
      "my,sc\n",
      "0 5\n",
      "8192 4\n"
     ]
    }
   ],
   "source": [
    "cells = []\n",
    "\n",
    "for cell in range(number_of_stemcells):\n",
    "    cells.append(\"sc\")\n",
    "    \n",
    "for cell in range(number_of_myoblasts):\n",
    "    cells.append(\"my\")\n",
    "    \n",
    "    \n",
    "print(cells) \n",
    "print(\"my,sc\")\n",
    "print(cells.count(\"my\"), cells.count(\"sc\"))\n",
    "\n",
    "masterdivision_function_v1(cells)\n",
    "\n",
    "print(cells.count(\"my\"), cells.count(\"sc\"))\n",
    "\n"
   ]
  },
  {
   "cell_type": "code",
   "execution_count": 120,
   "metadata": {
    "ExecuteTime": {
     "end_time": "2020-07-20T16:46:34.186480Z",
     "start_time": "2020-07-20T16:46:34.067484Z"
    }
   },
   "outputs": [],
   "source": [
    "max_div = 100\n",
    "list_percent_myoblasts_dividing = [100,100] + [50 for x in range(max_div)]\n",
    "\n",
    "def masterdivision_function_v2(cells, total_hrs = 120, subsequent_div_hrs = 8, max_div = max_div, list_percent_myoblasts_dividing = list_percent_myoblasts_dividing): #5 days = 120hrs\n",
    "    # this is division#1\n",
    "    total_hrs = total_hrs - 30\n",
    "    cells = divisionrate(cells, 20, 0)\n",
    "    cells = sc_to_myb_function(cells, 29)\n",
    "    \n",
    "    # to make sure cells stop dividing after total_hrs is over\n",
    "    for i,div in enumerate(range(max_div)):\n",
    "        if total_hrs < 0: \n",
    "            return cells \n",
    "        else: \n",
    "\n",
    "    # this is for subsequent divisions \n",
    "            percent_myoblasts_dividing = list_percent_myoblasts_dividing[i]\n",
    "            total_hrs = total_hrs - subsequent_div_hrs\n",
    "            cells = divisionrate(cells, 0, percent_myoblasts_dividing) # Only the initial myoblasts are dividing (at 100%)\n",
    "            cells = sc_to_myb_function(cells, 0)\n",
    "    return cells"
   ]
  },
  {
   "cell_type": "code",
   "execution_count": 131,
   "metadata": {
    "ExecuteTime": {
     "end_time": "2020-07-20T16:59:24.819451Z",
     "start_time": "2020-07-20T16:59:24.689415Z"
    }
   },
   "outputs": [
    {
     "name": "stdout",
     "output_type": "stream",
     "text": [
      "['sc', 'sc', 'sc', 'sc', 'sc']\n",
      "my,sc\n",
      "0 5\n",
      "1277 4\n"
     ]
    }
   ],
   "source": [
    "cells = []\n",
    "\n",
    "for cell in range(number_of_stemcells):\n",
    "    cells.append(\"sc\")\n",
    "    \n",
    "for cell in range(number_of_myoblasts):\n",
    "    cells.append(\"my\")\n",
    "    \n",
    "    \n",
    "print(cells) \n",
    "print(\"my,sc\")\n",
    "print(cells.count(\"my\"), cells.count(\"sc\"))\n",
    "\n",
    "#once you have 8 myoblasts (after the frist 2 subsequent being 100%), you then divide 70% of the time\n",
    "# change \"percent_divisions_after_div_3\" for subsequent percentage myoblasts dividing (after the first 2 subsequnt being 100%)\n",
    "\n",
    "max_div = 100\n",
    "percent_divisions_after_div_3 = 66\n",
    "list_percent_myoblasts_dividing = [100,100] + [percent_divisions_after_div_3 for x in range(max_div)] \n",
    "masterdivision_function_v2(cells, list_percent_myoblasts_dividing = list_percent_myoblasts_dividing)\n",
    "\n",
    "print(cells.count(\"my\"), cells.count(\"sc\"))\n"
   ]
  },
  {
   "cell_type": "code",
   "execution_count": 132,
   "metadata": {
    "ExecuteTime": {
     "end_time": "2020-07-20T16:59:24.850374Z",
     "start_time": "2020-07-20T16:59:24.845627Z"
    }
   },
   "outputs": [
    {
     "name": "stdout",
     "output_type": "stream",
     "text": [
      "[100, 100, 66, 66, 66, 66, 66, 66, 66, 66, 66, 66, 66, 66, 66, 66, 66, 66, 66, 66, 66, 66, 66, 66, 66, 66, 66, 66, 66, 66, 66, 66, 66, 66, 66, 66, 66, 66, 66, 66, 66, 66, 66, 66, 66, 66, 66, 66, 66, 66, 66, 66, 66, 66, 66, 66, 66, 66, 66, 66, 66, 66, 66, 66, 66, 66, 66, 66, 66, 66, 66, 66, 66, 66, 66, 66, 66, 66, 66, 66, 66, 66, 66, 66, 66, 66, 66, 66, 66, 66, 66, 66, 66, 66, 66, 66, 66, 66, 66, 66, 66, 66]\n"
     ]
    }
   ],
   "source": [
    "print(list_percent_myoblasts_dividing)"
   ]
  },
  {
   "cell_type": "code",
   "execution_count": null,
   "metadata": {},
   "outputs": [],
   "source": []
  }
 ],
 "metadata": {
  "kernelspec": {
   "display_name": "Python 3",
   "language": "python",
   "name": "python3"
  },
  "language_info": {
   "codemirror_mode": {
    "name": "ipython",
    "version": 3
   },
   "file_extension": ".py",
   "mimetype": "text/x-python",
   "name": "python",
   "nbconvert_exporter": "python",
   "pygments_lexer": "ipython3",
   "version": "3.6.3"
  },
  "toc": {
   "base_numbering": 1,
   "nav_menu": {},
   "number_sections": true,
   "sideBar": true,
   "skip_h1_title": false,
   "title_cell": "Table of Contents",
   "title_sidebar": "Contents",
   "toc_cell": true,
   "toc_position": {},
   "toc_section_display": true,
   "toc_window_display": false
  }
 },
 "nbformat": 4,
 "nbformat_minor": 2
}
