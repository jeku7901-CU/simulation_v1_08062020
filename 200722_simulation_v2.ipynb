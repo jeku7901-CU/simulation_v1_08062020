{
 "cells": [
  {
   "cell_type": "markdown",
   "metadata": {
    "toc": true
   },
   "source": [
    "<h1>Table of Contents<span class=\"tocSkip\"></span></h1>\n",
    "<div class=\"toc\"><ul class=\"toc-item\"></ul></div>"
   ]
  },
  {
   "cell_type": "code",
   "execution_count": 15,
   "metadata": {
    "ExecuteTime": {
     "end_time": "2020-07-22T17:18:48.928984Z",
     "start_time": "2020-07-22T17:18:48.925867Z"
    }
   },
   "outputs": [],
   "source": [
    "import itertools "
   ]
  },
  {
   "cell_type": "code",
   "execution_count": 2,
   "metadata": {
    "ExecuteTime": {
     "end_time": "2020-07-22T17:03:10.440353Z",
     "start_time": "2020-07-22T17:03:10.424886Z"
    }
   },
   "outputs": [],
   "source": [
    "def initiate_cells_per_myofiber(number_of_stemcells = 5, number_of_myoblasts = 0):\n",
    "    cells = []\n",
    "\n",
    "    for cell in range(number_of_stemcells):\n",
    "        cells.append(\"sc\")\n",
    "\n",
    "    for cell in range(number_of_myoblasts):\n",
    "        cells.append(\"my\")\n",
    "\n",
    "    return cells "
   ]
  },
  {
   "cell_type": "code",
   "execution_count": 3,
   "metadata": {
    "ExecuteTime": {
     "end_time": "2020-07-22T17:03:10.505895Z",
     "start_time": "2020-07-22T17:03:10.443354Z"
    }
   },
   "outputs": [],
   "source": [
    "def divisionrate(cells, percent_stemcells_dividing = 100, percent_myoblasts_dividing = 100):\n",
    "    number_of_stemcells = cells.count(\"sc\")  #len([cell for cell in cells if cell == \"sc\"])\n",
    "    number_of_myoblasts = cells.count(\"my\")  #len([cell for cell in cells if cell == \"my\"])\n",
    "\n",
    "    subset_of_stemcells = number_of_stemcells * (percent_stemcells_dividing / 100) \n",
    "    subset_of_myoblasts = number_of_myoblasts * (percent_myoblasts_dividing / 100) \n",
    "\n",
    "    subset_of_stemcells = round(subset_of_stemcells)\n",
    "    subset_of_myoblasts = round(subset_of_myoblasts)\n",
    "\n",
    "    for cell in range(subset_of_stemcells):\n",
    "        cells.append(\"sc\")\n",
    "    \n",
    "    for cell in range(subset_of_myoblasts):\n",
    "        cells.append(\"my\")\n",
    "    \n",
    "    return cells\n",
    "\n",
    "def sc_to_myb_function(cells, percent_transmutation_sc = 20): # percent sc's per myofiber turning into myoblasts\n",
    "    subset_of_stemcells = cells.count(\"sc\")\n",
    "    subset_of_stemcells = subset_of_stemcells * (percent_transmutation_sc / 100) \n",
    "    subset_of_stemcells = round(subset_of_stemcells)\n",
    "    for cell in range(subset_of_stemcells):\n",
    "        i = cells.index(\"sc\") \n",
    "        cells[i] = \"my\"\n",
    "    return cells"
   ]
  },
  {
   "cell_type": "code",
   "execution_count": 9,
   "metadata": {
    "ExecuteTime": {
     "end_time": "2020-07-22T17:05:25.717423Z",
     "start_time": "2020-07-22T17:05:25.693524Z"
    }
   },
   "outputs": [],
   "source": [
    "def masterdivision_function(cells, total_hrs = 120, subsequent_div_hrs = 8, max_div = max_div, list_percent_myoblasts_dividing = list_percent_myoblasts_dividing): #5 days = 120hrs\n",
    "    # this is division#1\n",
    "    total_hrs = total_hrs - 30\n",
    "    cells = divisionrate(cells, 20, 0)\n",
    "    cells = sc_to_myb_function(cells, 29)\n",
    "    \n",
    "    # to make sure cells stop dividing after total_hrs is over\n",
    "    for i,div in enumerate(range(max_div)):\n",
    "        if total_hrs < 0: \n",
    "            return cells \n",
    "        else: \n",
    "\n",
    "    # this is for subsequent divisions \n",
    "            percent_myoblasts_dividing = list_percent_myoblasts_dividing[i]\n",
    "            total_hrs = total_hrs - subsequent_div_hrs\n",
    "            cells = divisionrate(cells, 0, percent_myoblasts_dividing) # Only the initial myoblasts are dividing (at 100%)\n",
    "            cells = sc_to_myb_function(cells, 0)\n",
    "    return cells"
   ]
  },
  {
   "cell_type": "code",
   "execution_count": 10,
   "metadata": {
    "ExecuteTime": {
     "end_time": "2020-07-22T17:05:26.140895Z",
     "start_time": "2020-07-22T17:05:26.125444Z"
    }
   },
   "outputs": [
    {
     "name": "stdout",
     "output_type": "stream",
     "text": [
      "1277 4\n"
     ]
    }
   ],
   "source": [
    "cells = initiate_cells_per_myofiber()\n",
    "\n",
    "\n",
    "max_div = 15\n",
    "percent_divisions_after_div_3 = 66 # we can change this\n",
    "list_percent_myoblasts_dividing = [100,100] + [percent_divisions_after_div_3 for x in range(max_div)] \n",
    "\n",
    "\n",
    "\n",
    "masterdivision_function(cells, list_percent_myoblasts_dividing = list_percent_myoblasts_dividing)\n",
    "\n",
    "print(cells.count(\"my\"), cells.count(\"sc\"))\n"
   ]
  },
  {
   "cell_type": "code",
   "execution_count": 33,
   "metadata": {
    "ExecuteTime": {
     "end_time": "2020-07-22T17:42:00.567640Z",
     "start_time": "2020-07-22T17:42:00.561819Z"
    }
   },
   "outputs": [],
   "source": []
  },
  {
   "cell_type": "code",
   "execution_count": null,
   "metadata": {
    "ExecuteTime": {
     "end_time": "2020-07-22T17:20:46.934736Z",
     "start_time": "2020-07-22T17:20:46.930525Z"
    }
   },
   "outputs": [],
   "source": []
  },
  {
   "cell_type": "code",
   "execution_count": 37,
   "metadata": {
    "ExecuteTime": {
     "end_time": "2020-07-22T17:51:15.298380Z",
     "start_time": "2020-07-22T17:51:15.250082Z"
    }
   },
   "outputs": [],
   "source": [
    "def main_function(max_my = 2000, min_my = 300):\n",
    "\n",
    "    write_file = \"simulation_output_min\" + str(min_my) + \"_max\" + str(max_my) + \".csv\"\n",
    "    wf = open(write_file, \"w\")\n",
    "    \n",
    "    possible_percents = [i for i in range(0,101,50)]\n",
    "\n",
    "    all_percents_list = itertools.product(possible_percents, repeat = 15)\n",
    "    \n",
    "    for i in all_percents_list: \n",
    "        #print(i)\n",
    "        list_percent_myoblasts_dividing = list(i)\n",
    "\n",
    "        cells = initiate_cells_per_myofiber()\n",
    "\n",
    "        cells = masterdivision_function(cells, list_percent_myoblasts_dividing = list_percent_myoblasts_dividing)\n",
    "\n",
    "        if cells.count(\"my\") < max_my: \n",
    "            if cells.count(\"my\") > min_my:\n",
    "\n",
    "                line = [cells.count(\"my\"), cells.count(\"sc\")] + list_percent_myoblasts_dividing \n",
    "\n",
    "                line = \",\".join(map(str, line)) + \"\\n\"\n",
    "\n",
    "                wf.write(line)\n",
    "    \n",
    "    wf.close()"
   ]
  },
  {
   "cell_type": "code",
   "execution_count": 38,
   "metadata": {
    "ExecuteTime": {
     "end_time": "2020-07-22T18:18:53.327986Z",
     "start_time": "2020-07-22T17:51:16.268733Z"
    }
   },
   "outputs": [],
   "source": [
    "main_function()"
   ]
  },
  {
   "cell_type": "code",
   "execution_count": null,
   "metadata": {},
   "outputs": [],
   "source": []
  }
 ],
 "metadata": {
  "kernelspec": {
   "display_name": "Python 3",
   "language": "python",
   "name": "python3"
  },
  "language_info": {
   "codemirror_mode": {
    "name": "ipython",
    "version": 3
   },
   "file_extension": ".py",
   "mimetype": "text/x-python",
   "name": "python",
   "nbconvert_exporter": "python",
   "pygments_lexer": "ipython3",
   "version": "3.6.3"
  },
  "toc": {
   "base_numbering": 1,
   "nav_menu": {},
   "number_sections": true,
   "sideBar": true,
   "skip_h1_title": false,
   "title_cell": "Table of Contents",
   "title_sidebar": "Contents",
   "toc_cell": true,
   "toc_position": {},
   "toc_section_display": true,
   "toc_window_display": false
  }
 },
 "nbformat": 4,
 "nbformat_minor": 2
}
